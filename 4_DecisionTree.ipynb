{
  "nbformat": 4,
  "nbformat_minor": 0,
  "metadata": {
    "colab": {
      "name": " 결정트리.ipynb",
      "provenance": []
    },
    "kernelspec": {
      "name": "python3",
      "display_name": "Python 3"
    },
    "language_info": {
      "name": "python"
    }
  },
  "cells": [
    {
      "cell_type": "code",
      "source": [
        "from google.colab import drive\n",
        "drive.mount('/content/drive')"
      ],
      "metadata": {
        "colab": {
          "base_uri": "https://localhost:8080/"
        },
        "id": "MvcjzAlG403h",
        "outputId": "678a8ca5-6691-4367-f777-478b35dea17c"
      },
      "execution_count": 3,
      "outputs": [
        {
          "output_type": "stream",
          "name": "stdout",
          "text": [
            "Mounted at /content/drive\n"
          ]
        }
      ]
    },
    {
      "cell_type": "code",
      "source": [
        "cd \"/content/drive/My Drive/DongA_Bigdata/day2\""
      ],
      "metadata": {
        "colab": {
          "base_uri": "https://localhost:8080/"
        },
        "id": "82hhP5Nr41Xw",
        "outputId": "ff4b7192-a7a6-4b8f-ad16-d4773afb76d1"
      },
      "execution_count": 4,
      "outputs": [
        {
          "output_type": "stream",
          "name": "stdout",
          "text": [
            "/content/drive/My Drive/DongA_Bigdata\n"
          ]
        }
      ]
    },
    {
      "cell_type": "code",
      "source": [
        "from sklearn.datasets import load_iris\n",
        "from sklearn.tree import DecisionTreeClassifier, DecisionTreeRegressor\n",
        "from sklearn.tree import export_graphviz\n",
        "from subprocess import check_call"
      ],
      "metadata": {
        "id": "QaKXpBmh5bCX"
      },
      "execution_count": null,
      "outputs": []
    },
    {
      "cell_type": "code",
      "source": [
        "iris = load_iris()\n",
        "x = iris.data[:,2:] # 꽃잎의 길이, 너비\n",
        "y = iris.target"
      ],
      "metadata": {
        "id": "7zFrqAq45gOS"
      },
      "execution_count": null,
      "outputs": []
    },
    {
      "cell_type": "code",
      "execution_count": 6,
      "metadata": {
        "colab": {
          "base_uri": "https://localhost:8080/"
        },
        "id": "Tc8AwAbi4ZCU",
        "outputId": "5700e89a-4301-43e3-d2ec-687804fef615"
      },
      "outputs": [
        {
          "output_type": "execute_result",
          "data": {
            "text/plain": [
              "0"
            ]
          },
          "metadata": {},
          "execution_count": 6
        }
      ],
      "source": [
        "# decision tree 모형 인스턴스 생성 및 하이퍼파라미터(depth) = 3\n",
        "tree_model = DecisionTreeClassifier(max_depth=3)\n",
        "tree_model.fit(x,y)\n",
        "\n",
        "export_graphviz(\n",
        "    tree_model, # 학습한 모형\n",
        "    out_file = './iris_tree_model.dot', # .dot 파일 저장 위치\n",
        "    feature_names = iris.feature_names[2:], # 사용한 변수 이름\n",
        "    class_names = iris.target_names, # 예측할 타겟 클래스 이름\n",
        "    rounded=True, # 사각형 끝을 둥글게\n",
        "    filled=True # 사각형 안 색깔 채우기\n",
        ")\n",
        "# 예측한 모형 png로 바꿔서, 시각화 하기\n",
        "check_call(['dot','-Tpng','iris_tree_model.dot','-o','OutputFile.png'])"
      ]
    },
    {
      "cell_type": "code",
      "source": [
        "# max_depth = 3\n",
        "tree_model = DecisionTreeRegressor(max_depth=3)\n",
        "tree_model.fit(x,y)\n",
        "\n",
        "export_graphviz(\n",
        "    tree_model, # 학습한 모형\n",
        "    out_file = './iris_tree_model_reg.dot', # .dot 파일 저장 위치\n",
        "    feature_names = iris.feature_names[2:], # 사용한 변수 이름\n",
        "    rounded=True, # 사각형 끝을 둥글게\n",
        "    filled=True # 사각형 안 색깔 채우기\n",
        ")\n",
        "\n",
        "# 예측한 모형 png로 바꿔서, 시각화 하기\n",
        "check_call(['dot','-Tpng','iris_tree_model_reg.dot','-o','OutputFile_reg.png'])"
      ],
      "metadata": {
        "id": "l9ZM2ga940FW"
      },
      "execution_count": null,
      "outputs": []
    }
  ]
}