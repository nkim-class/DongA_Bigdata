{
  "nbformat": 4,
  "nbformat_minor": 0,
  "metadata": {
    "colab": {
      "provenance": [],
      "collapsed_sections": []
    },
    "kernelspec": {
      "name": "python3",
      "display_name": "Python 3"
    },
    "language_info": {
      "name": "python"
    }
  },
  "cells": [
    {
      "cell_type": "markdown",
      "source": [
        "드라이브 마운트"
      ],
      "metadata": {
        "id": "V6vY-Wtu96Xc"
      }
    },
    {
      "cell_type": "code",
      "execution_count": null,
      "metadata": {
        "id": "ntFRJJW6_pWC"
      },
      "outputs": [],
      "source": [
        "from google.colab import drive\n",
        "drive.mount('/content/drive')"
      ]
    },
    {
      "cell_type": "code",
      "source": [
        "cd \"/content/drive/My Drive/donga-bigdata/1_Bigdata/Jeju\""
      ],
      "metadata": {
        "id": "HakTSnWB_qPw"
      },
      "execution_count": null,
      "outputs": []
    },
    {
      "cell_type": "markdown",
      "source": [
        "-----"
      ],
      "metadata": {
        "id": "tXbK7zYT99Rg"
      }
    },
    {
      "cell_type": "code",
      "source": [
        "import matplotlib.pyplot as plt\n",
        "import numpy as np\n",
        "import pandas as pd\n",
        "import csv"
      ],
      "metadata": {
        "id": "58Ks7JDEAB_u"
      },
      "execution_count": null,
      "outputs": []
    },
    {
      "cell_type": "code",
      "source": [
        "df=pd.read_csv('./data/gender.csv', encoding='cp949')\n",
        "jeju_df = df.iloc[0]\n",
        "jeju_key = jeju_df.keys()\n",
        "jeju_data = np.array(jeju_df.iloc[1:])\n",
        "data = jeju_data.reshape(6,2,13)"
      ],
      "metadata": {
        "id": "Ie6bCmwQAERq"
      },
      "execution_count": null,
      "outputs": []
    },
    {
      "cell_type": "code",
      "source": [
        "fig1, (ax11, ax12) = plt.subplots(1,2, sharey='row')\n",
        "ax11.barh(range(6), data[:,0,0], label='male',color='tab:blue')\n",
        "ax12.barh(range(6), data[:,1,0], label='female',color='tab:orange')\n",
        "ax11.invert_xaxis()\n",
        "ax11.set_yticklabels(range(2015,2022))\n",
        "#fig1.legend(ncol=2)\n",
        "fig1.suptitle('Population distribution by gender (bar)')\n",
        "ax11.set_title('male')\n",
        "ax12.set_title('female')\n",
        "fig1.savefig('./output/bar_graph1.png')\n",
        "fig1.show()"
      ],
      "metadata": {
        "id": "BVGeTYi1LYE2"
      },
      "execution_count": null,
      "outputs": []
    },
    {
      "cell_type": "code",
      "source": [
        "fig2, ax2 = plt.subplots()\n",
        "sizes=[data[:,0,0].mean(), data[:,1,0].mean()]\n",
        "ax2.pie(sizes, labels=['male', 'female'], autopct='%1.1f%%', shadow=True, startangle=90)\n",
        "ax2.axis('equal')  # Equal aspect ratio ensures that pie is drawn as a circle.\n",
        "fig2.suptitle('Population distribution difference between gender (bar)')\n",
        "fig2.savefig('./output/pi_graph1.png')\n",
        "fig2.show()"
      ],
      "metadata": {
        "id": "q4uaSa3kKxjh"
      },
      "execution_count": null,
      "outputs": []
    },
    {
      "cell_type": "code",
      "source": [
        "fig3, ax3 = plt.subplots()\n",
        "data[:,0,0]-data[:,1,0]\n",
        "ax3.bar(range(len(data[:,0,0])),data[:,0,0]-data[:,1,0],color='tab:blue')\n",
        "ax3.set_xticklabels(range(2015,2022))\n",
        "# fig1.legend(ncol=2)\n",
        "fig3.suptitle('Population distribution difference by age (bar)')\n",
        "fig3.savefig('./output/bar_graph2.png')\n",
        "fig3.show()"
      ],
      "metadata": {
        "id": "KQY-MREgMYrF"
      },
      "execution_count": null,
      "outputs": []
    },
    {
      "cell_type": "code",
      "source": [
        "fig4, ax4 = plt.subplots(3,4, figsize=(8,6))\n",
        "for i in range(11):\n",
        "  x_index = np.mod(i,4)\n",
        "  y_index = int(i/4)\n",
        "  ax4[y_index,x_index].bar(range(len(data[:,0,i+2])),data[:,0,i+2]-data[:,1,i+2],color='tab:blue')\n",
        "  ax4[y_index,x_index].set_xticks(range(6))\n",
        "  ax4[y_index,x_index].set_xticklabels(range(2016,2022),rotation=90)\n",
        "  ax4[y_index,x_index].set_ylim([-10000, 6000])\n",
        "\n",
        "#fig4.suptitle('Population distribution by gender (bar)')\n",
        "fig4.tight_layout()\n",
        "fig4.savefig('./output/bar_graph3.png')\n",
        "fig4.show()"
      ],
      "metadata": {
        "id": "9ZQJStiJl5qq"
      },
      "execution_count": null,
      "outputs": []
    },
    {
      "cell_type": "code",
      "source": [
        "fig5, ax5 = plt.subplots(figsize=(4,4))\n",
        "for i in range(11):\n",
        "  ax5.scatter(data[:,0,i+2],data[:,1,i+2])\n",
        "ax5.plot([0,60000],[0,60000],color='tab:red')\n",
        "ax5.set_xlabel('female population')\n",
        "ax5.set_ylabel('male population')\n",
        "fig3.suptitle('Population distribution (scatter)')\n",
        "fig5.tight_layout()\n",
        "fig5.savefig('./output/scatter_graph1.png')\n",
        "fig5.show()"
      ],
      "metadata": {
        "id": "C5_oloaE1n4f"
      },
      "execution_count": null,
      "outputs": []
    }
  ]
}